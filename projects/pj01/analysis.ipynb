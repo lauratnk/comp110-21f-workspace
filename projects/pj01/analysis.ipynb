{
 "cells": [
  {
   "cell_type": "markdown",
   "metadata": {},
   "source": [
    "# Hypothesis: Students who spend more time online on social media are less likely to recommend the course."
   ]
  },
  {
   "cell_type": "markdown",
   "metadata": {},
   "source": [
    "### The following python cells read in the csv file and convert it into a column-oriented table."
   ]
  },
  {
   "cell_type": "code",
   "execution_count": 97,
   "metadata": {},
   "outputs": [],
   "source": [
    "%reload_ext autoreload\n",
    "%autoreload 2\n",
    "\n",
    "from data_utils import read_csv_rows, columnar\n",
    "\n",
    "data_rows: list[dict[str, str]] = read_csv_rows('../../data/survey.csv')\n",
    "columns: dict[str, list[str]] = columnar(data_rows)"
   ]
  },
  {
   "cell_type": "markdown",
   "metadata": {},
   "source": [
    "First, I will create a dictionary with the columns \"hours_online_social\" and \"would_recommend\". Printed is the first 5 rows of that dictionary."
   ]
  },
  {
   "cell_type": "code",
   "execution_count": 98,
   "metadata": {},
   "outputs": [
    {
     "data": {
      "text/plain": [
       "{'hours_online_social': ['3 to 5 hours',\n",
       "  '5 to 10 hours',\n",
       "  '3 to 5 hours',\n",
       "  '5 to 10 hours',\n",
       "  '3 to 5 hours'],\n",
       " 'would_recommend': ['7', '7', '7', '7', '7']}"
      ]
     },
     "execution_count": 98,
     "metadata": {},
     "output_type": "execute_result"
    }
   ],
   "source": [
    "from data_utils import head, select\n",
    "\n",
    "subset_new: dict[str, list[str]] = select(columns, [\"hours_online_social\", \"would_recommend\"])\n",
    "head(subset_new,  5)"
   ]
  },
  {
   "cell_type": "markdown",
   "metadata": {},
   "source": [
    "Next, I will make two lists that contain the rating scores of all students who reported spending either 5 to 10 or 0 to 2 hours on social media."
   ]
  },
  {
   "cell_type": "code",
   "execution_count": 99,
   "metadata": {},
   "outputs": [],
   "source": [
    "from data_utils import lists\n",
    "scores_hours_online_social_5 = lists(subset_new, \"hours_online_social\", '5 to 10 hours', \"would_recommend\")\n",
    "scores_hours_online_social_0 = lists(subset_new, \"hours_online_social\", '0 to 2 hours', \"would_recommend\")"
   ]
  },
  {
   "cell_type": "markdown",
   "metadata": {},
   "source": [
    "Next, I will make two dictionaries containing the corresponding counts of each list created in the previous cell."
   ]
  },
  {
   "cell_type": "code",
   "execution_count": 100,
   "metadata": {},
   "outputs": [],
   "source": [
    "from data_utils import count1\n",
    "from tabulate import tabulate\n",
    "count_5_to_10 = count1(scores_hours_online_social_5)\n",
    "count_0_to_2 = count1(scores_hours_online_social_0)"
   ]
  },
  {
   "cell_type": "markdown",
   "metadata": {},
   "source": [
    "The following cell reports the ratings for students who reported using social media 5 to 10 hours a day."
   ]
  },
  {
   "cell_type": "markdown",
   "metadata": {},
   "source": []
  },
  {
   "cell_type": "code",
   "execution_count": 101,
   "metadata": {},
   "outputs": [
    {
     "name": "stdout",
     "output_type": "stream",
     "text": [
      "For students who reported using social media 5 to 10 hours a day:\n",
      "2 rated the class a 1\n",
      "3 rated the class a 2\n",
      "6 rated the class a 3\n",
      "19 rated the class a 4\n",
      "21 rated the class a 5\n",
      "29 rated the class a 6\n",
      "37 rated the class a 7\n"
     ]
    }
   ],
   "source": [
    "print('For students who reported using social media 5 to 10 hours a day:')\n",
    "\n",
    "print(f\"{count_5_to_10['1']} rated the class a 1\")\n",
    "print(f\"{count_5_to_10['2']} rated the class a 2\")\n",
    "print(f\"{count_5_to_10['3']} rated the class a 3\")\n",
    "print(f\"{count_5_to_10['4']} rated the class a 4\")\n",
    "print(f\"{count_5_to_10['5']} rated the class a 5\")\n",
    "print(f\"{count_5_to_10['6']} rated the class a 6\")\n",
    "print(f\"{count_5_to_10['7']} rated the class a 7\")"
   ]
  },
  {
   "cell_type": "markdown",
   "metadata": {},
   "source": [
    "The following cell reports the ratings for students who reported using social media 0 to 2 hours a day."
   ]
  },
  {
   "cell_type": "code",
   "execution_count": 102,
   "metadata": {},
   "outputs": [
    {
     "name": "stdout",
     "output_type": "stream",
     "text": [
      "For students who reported using social media 0 to 2 hours a day:\n",
      "3 rated the class a 1\n",
      "5 rated the class a 2\n",
      "10 rated the class a 3\n",
      "21 rated the class a 4\n",
      "24 rated the class a 5\n",
      "25 rated the class a 6\n",
      "41 rated the class a 7\n"
     ]
    }
   ],
   "source": [
    "print('For students who reported using social media 0 to 2 hours a day:')\n",
    "\n",
    "print(f\"{count_0_to_2['1']} rated the class a 1\")\n",
    "print(f\"{count_0_to_2['2']} rated the class a 2\")\n",
    "print(f\"{count_0_to_2['3']} rated the class a 3\")\n",
    "print(f\"{count_0_to_2['4']} rated the class a 4\")\n",
    "print(f\"{count_0_to_2['5']} rated the class a 5\")\n",
    "print(f\"{count_0_to_2['6']} rated the class a 6\")\n",
    "print(f\"{count_0_to_2['7']} rated the class a 7\")"
   ]
  },
  {
   "cell_type": "markdown",
   "metadata": {},
   "source": [
    "The following bar plot reports my findings with the Y axis being the total number of students and the X axis being the class rating."
   ]
  },
  {
   "cell_type": "code",
   "execution_count": 103,
   "metadata": {},
   "outputs": [
    {
     "data": {
      "text/plain": [
       "<BarContainer object of 7 artists>"
      ]
     },
     "execution_count": 103,
     "metadata": {},
     "output_type": "execute_result"
    },
    {
     "data": {
      "image/png": "[encoded data removed]",
      "text/plain": [
       "<Figure size 864x360 with 2 Axes>"
      ]
     },
     "metadata": {
      "needs_background": "light"
     },
     "output_type": "display_data"
    }
   ],
   "source": [
    "from matplotlib import pyplot as plt\n",
    "\n",
    "fig, axes = plt.subplots(1, 2, figsize=(12, 5), sharey=True)\n",
    "fig.suptitle(\"COMP 110 class rating based on hours spent on social media.\")\n",
    "\n",
    "\n",
    "axes[0].set_title(\"0 to 2 Hours\")\n",
    "axes[0].bar(count_0_to_2.keys(), count_0_to_2.values())\n",
    "axes[0].tick_params(axis='x', labelrotation = 45)\n",
    "\n",
    "axes[1].set_title(\"5 to 10 Hours\")\n",
    "axes[1].bar(count_5_to_10.keys(), count_5_to_10.values())"
   ]
  },
  {
   "cell_type": "markdown",
   "metadata": {},
   "source": [
    "# My analysis does not find a measurable correlation between social media usage and class rating.\n",
    "\n",
    "The total number of students reporting each rating remains consistent for each subset of students. "
   ]
  }
 ],
 "metadata": {
  "interpreter": {
   "hash": "aee8b7b246df8f9039afb4144a1f6fd8d2ca17a180786b69acc140d282b71a49"
  },
  "kernelspec": {
   "display_name": "Python 3.9.6 64-bit",
   "language": "python",
   "name": "python3"
  },
  "language_info": {
   "codemirror_mode": {
    "name": "ipython",
    "version": 3
   },
   "file_extension": ".py",
   "mimetype": "text/x-python",
   "name": "python",
   "nbconvert_exporter": "python",
   "pygments_lexer": "ipython3",
   "version": "3.9.6"
  },
  "orig_nbformat": 4
 },
 "nbformat": 4,
 "nbformat_minor": 2
}
